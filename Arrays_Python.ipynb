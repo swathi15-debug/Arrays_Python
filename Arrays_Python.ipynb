{
 "cells": [
  {
   "cell_type": "markdown",
   "id": "7cfb758d",
   "metadata": {},
   "source": [
    "###### 1D Array (One-Dimensional Array)\n",
    "A 1D array is the simplest form of an array, containing a single sequence of elements in a straight line. \n",
    "You can think of it as a list of items.\n",
    "\n",
    "Shape: (n,) where n is the number of elements.\n",
    "Example: A 1D array with five elements [10, 20, 30, 40, 50] has the shape (5,)."
   ]
  },
  {
   "cell_type": "code",
   "execution_count": 1,
   "id": "e8a9f2d6",
   "metadata": {},
   "outputs": [
    {
     "name": "stdout",
     "output_type": "stream",
     "text": [
      "\n",
      "1D array [10 20 30 40 50]\n",
      "\n",
      "shape array (5,)\n",
      "\n",
      "data type of Array int32\n",
      "\n",
      "dimension of Array 1\n"
     ]
    }
   ],
   "source": [
    "import numpy as np\n",
    "array_1D = np.array([10,20,30,40,50])\n",
    "print(\"\\n1D array\", array_1D)\n",
    "print(\"\\nshape array\", array_1D.shape)\n",
    "print(\"\\ndata type of Array\", array_1D.dtype)\n",
    "print(\"\\ndimension of Array\", array_1D.ndim)"
   ]
  },
  {
   "cell_type": "markdown",
   "id": "6a5b60b4",
   "metadata": {},
   "source": [
    "###### 2D Array (Two-Dimensional Array)\n",
    "A 2D array represents a grid of values, arranged in rows and columns, similar to a table or matrix.\n",
    "\n",
    "Shape: (m, n) where m is the number of rows, and n is the number of columns.\n",
    "\n",
    "Example: A 2D array with three rows and two columns could look like this:\n",
    "\n",
    "This array has two axes:\n",
    "\n",
    "Axis 0 (rows): 3 rows.\n",
    "Axis 1 (columns): 2 columns.\n",
    "A 2D array is often used in data tables, images (grayscale), and matrices.\n"
   ]
  },
  {
   "cell_type": "code",
   "execution_count": 3,
   "id": "83dc14f8",
   "metadata": {},
   "outputs": [
    {
     "name": "stdout",
     "output_type": "stream",
     "text": [
      "\n",
      "2D array\n",
      " [[1 2]\n",
      " [3 4]]\n",
      "\n",
      "shape array (2, 2)\n",
      "\n",
      "data type of Array int32\n",
      "\n",
      "dimension of Array 2\n"
     ]
    }
   ],
   "source": [
    "array_2D = np.array([[1,2], [3,4]])\n",
    "print(\"\\n2D array\\n\", array_2D)\n",
    "print(\"\\nshape array\", array_2D.shape)\n",
    "print(\"\\ndata type of Array\", array_2D.dtype)\n",
    "print(\"\\ndimension of Array\", array_2D.ndim)"
   ]
  },
  {
   "cell_type": "markdown",
   "id": "94eef85c",
   "metadata": {},
   "source": [
    "###### 3D Array (Three-Dimensional Array)\n",
    "A 3D array is made up of multiple 2D arrays stacked together, forming a cube-like structure. This is often used for collections of images, volumetric data, or sequences of matrices.\n",
    "\n",
    "Shape: (p, m, n) where:\n",
    "p is the number of 2D matrices (or layers).\n",
    "m is the number of rows in each 2D matrix.\n",
    "n is the number of columns in each 2D matrix.\n",
    "\n",
    "Example: A 3D array with two layers, each containing a 2x2 grid:\n",
    "This array has three axes:\n",
    "\n",
    "Axis 0 (depth): 2 layers.\n",
    "Axis 1 (rows): 2 rows in each layer.\n",
    "Axis 2 (columns): 2 columns in each row.\n",
    "A 3D array can represent multiple grayscale images, \n",
    "color images with separate RGB layers, or even volumetric data like MRI scans.\n"
   ]
  },
  {
   "cell_type": "code",
   "execution_count": 4,
   "id": "c71eb9a1",
   "metadata": {},
   "outputs": [
    {
     "name": "stdout",
     "output_type": "stream",
     "text": [
      "3D Array\n",
      " [[[1 2]\n",
      "  [2 3]]\n",
      "\n",
      " [[4 5]\n",
      "  [5 6]]\n",
      "\n",
      " [[7 8]\n",
      "  [8 9]]]\n",
      "\n",
      "Shape of Array (3, 2, 2)\n",
      "\n",
      "data type of Array int32\n",
      "\n",
      "dimension of Array 3\n"
     ]
    }
   ],
   "source": [
    "array_3D = np.array([[[1,2],[2,3]], [[4,5], [5,6]], [[7,8], [8,9]]])\n",
    "print(\"3D Array\\n\", array_3D)\n",
    "print(\"\\nShape of Array\", array_3D.shape)\n",
    "print(\"\\ndata type of Array\", array_3D.dtype)\n",
    "print(\"\\ndimension of Array\", array_3D.ndim)"
   ]
  },
  {
   "cell_type": "markdown",
   "id": "4d20cc20",
   "metadata": {},
   "source": [
    "###### Array with Zero's"
   ]
  },
  {
   "cell_type": "code",
   "execution_count": 6,
   "id": "ebf68fe4",
   "metadata": {},
   "outputs": [
    {
     "data": {
      "text/plain": [
       "array([[0, 0, 0, 0, 0, 0, 0, 0],\n",
       "       [0, 0, 0, 0, 0, 0, 0, 0],\n",
       "       [0, 0, 0, 0, 0, 0, 0, 0],\n",
       "       [0, 0, 0, 0, 0, 0, 0, 0]])"
      ]
     },
     "execution_count": 6,
     "metadata": {},
     "output_type": "execute_result"
    }
   ],
   "source": [
    "a = np.zeros((4,8), dtype = int)\n",
    "a"
   ]
  },
  {
   "cell_type": "code",
   "execution_count": 24,
   "id": "1e13e900",
   "metadata": {},
   "outputs": [
    {
     "data": {
      "text/plain": [
       "array([[0., 0., 0., 0., 0., 0., 0., 0.],\n",
       "       [0., 0., 0., 0., 0., 0., 0., 0.],\n",
       "       [0., 0., 0., 0., 0., 0., 0., 0.],\n",
       "       [0., 0., 0., 0., 0., 0., 0., 0.]])"
      ]
     },
     "execution_count": 24,
     "metadata": {},
     "output_type": "execute_result"
    }
   ],
   "source": [
    "b = np.zeros((4,8), dtype = float)\n",
    "b"
   ]
  },
  {
   "cell_type": "markdown",
   "id": "398a7b00",
   "metadata": {},
   "source": [
    "###### Array with 1's"
   ]
  },
  {
   "cell_type": "code",
   "execution_count": 26,
   "id": "184f0fa8",
   "metadata": {},
   "outputs": [
    {
     "data": {
      "text/plain": [
       "array([[1, 1, 1, 1, 1, 1, 1, 1],\n",
       "       [1, 1, 1, 1, 1, 1, 1, 1],\n",
       "       [1, 1, 1, 1, 1, 1, 1, 1],\n",
       "       [1, 1, 1, 1, 1, 1, 1, 1]])"
      ]
     },
     "execution_count": 26,
     "metadata": {},
     "output_type": "execute_result"
    }
   ],
   "source": [
    "c = np.ones((4,8), dtype = int)\n",
    "c"
   ]
  },
  {
   "cell_type": "markdown",
   "id": "63532979",
   "metadata": {},
   "source": [
    "###### diagnol 1's"
   ]
  },
  {
   "cell_type": "code",
   "execution_count": 30,
   "id": "4133af6e",
   "metadata": {},
   "outputs": [
    {
     "data": {
      "text/plain": [
       "array([[1, 0, 0, 0, 0],\n",
       "       [0, 1, 0, 0, 0],\n",
       "       [0, 0, 1, 0, 0],\n",
       "       [0, 0, 0, 1, 0],\n",
       "       [0, 0, 0, 0, 1]])"
      ]
     },
     "execution_count": 30,
     "metadata": {},
     "output_type": "execute_result"
    }
   ],
   "source": [
    "d = np.eye(5, dtype = int)\n",
    "d"
   ]
  },
  {
   "cell_type": "markdown",
   "id": "36ac6ed9",
   "metadata": {},
   "source": [
    "###### a range"
   ]
  },
  {
   "cell_type": "code",
   "execution_count": 10,
   "id": "29aa41b5",
   "metadata": {
    "scrolled": true
   },
   "outputs": [
    {
     "data": {
      "text/plain": [
       "array([ 0,  2,  4,  6,  8, 10, 12, 14, 16, 18])"
      ]
     },
     "execution_count": 10,
     "metadata": {},
     "output_type": "execute_result"
    }
   ],
   "source": [
    "e = np.arange(0,20,2)\n",
    "e"
   ]
  },
  {
   "cell_type": "code",
   "execution_count": 11,
   "id": "06d3027a",
   "metadata": {},
   "outputs": [
    {
     "name": "stdout",
     "output_type": "stream",
     "text": [
      "[0 2 4 6 8]\n"
     ]
    }
   ],
   "source": [
    "#Specified step size\n",
    "arr1 = np.arange(0, 10, step=2)\n",
    "print(arr1)"
   ]
  },
  {
   "cell_type": "markdown",
   "id": "6f2282ef",
   "metadata": {},
   "source": [
    "###### linspace"
   ]
  },
  {
   "cell_type": "code",
   "execution_count": 18,
   "id": "6d1358c6",
   "metadata": {},
   "outputs": [
    {
     "name": "stdout",
     "output_type": "stream",
     "text": [
      "[0.  0.1 0.2 0.3 0.4 0.5 0.6 0.7 0.8 0.9 1. ]\n",
      "(array([0, 0, 0, 0, 0, 0, 0, 0, 0, 0, 1]), 0.1)\n"
     ]
    }
   ],
   "source": [
    "j = np.linspace(0.0, 1.0, 11)\n",
    "print(j)\n",
    "f = np.linspace(0.0, 1.0, 11, retstep=True, dtype=int)\n",
    "print(f)"
   ]
  },
  {
   "cell_type": "markdown",
   "id": "b1fcb1fc",
   "metadata": {},
   "source": [
    "###### converting float to int"
   ]
  },
  {
   "cell_type": "code",
   "execution_count": 14,
   "id": "ace48f72",
   "metadata": {},
   "outputs": [
    {
     "name": "stdout",
     "output_type": "stream",
     "text": [
      "[0 1]\n"
     ]
    }
   ],
   "source": [
    "f = np.linspace(0.0, 1.0, 11)\n",
    "integer_elements = f[f == f.astype(int)]  # Filter only integer values\n",
    "print(integer_elements.astype(int))"
   ]
  },
  {
   "cell_type": "markdown",
   "id": "6c1ac5df",
   "metadata": {},
   "source": [
    "###### np.linspace(start, stop, num=50, endpoint=True, retstep=False, dtype=None)\n",
    "\n",
    "start: The starting value of the range.\n",
    "\n",
    "stop: The end value of the range.\n",
    "\n",
    "num: The number of samples to generate (default is 50).\n",
    "\n",
    "endpoint: If True (default), includes the stop value; if False, it excludes it.\n",
    "\n",
    "retstep: If True, returns a tuple with the array and the spacing between values.\n",
    "\n",
    "dtype: The desired data type of the resulting array."
   ]
  },
  {
   "cell_type": "markdown",
   "id": "2f3c5b2c",
   "metadata": {},
   "source": [
    "###### Excluding the Endpoint\n",
    "\n",
    "If you want to exclude the stop value (10 in this case):"
   ]
  },
  {
   "cell_type": "code",
   "execution_count": 40,
   "id": "7f4f9aff",
   "metadata": {},
   "outputs": [
    {
     "name": "stdout",
     "output_type": "stream",
     "text": [
      "[0. 2. 4. 6. 8.]\n"
     ]
    }
   ],
   "source": [
    "arr = np.linspace(0, 10, num=5, endpoint=False)\n",
    "print(arr)"
   ]
  },
  {
   "cell_type": "markdown",
   "id": "8145cd58",
   "metadata": {},
   "source": [
    "###### 3. Getting the Step Size\n",
    "You can also find out the spacing between each element by setting retstep=True:"
   ]
  },
  {
   "cell_type": "code",
   "execution_count": 21,
   "id": "5a27fc0a",
   "metadata": {},
   "outputs": [
    {
     "name": "stdout",
     "output_type": "stream",
     "text": [
      "Array: [ 0.   2.5  5.   7.5 10. ]\n",
      "Step size: 2.5\n"
     ]
    }
   ],
   "source": [
    "arr2, step = np.linspace(0, 10, num=5, retstep=True)\n",
    "print(\"Array:\", arr2)\n",
    "print(\"Step size:\", step)"
   ]
  },
  {
   "cell_type": "markdown",
   "id": "ec8ff388",
   "metadata": {},
   "source": [
    "###### random gives random float values"
   ]
  },
  {
   "cell_type": "code",
   "execution_count": 26,
   "id": "67830f13",
   "metadata": {},
   "outputs": [
    {
     "name": "stdout",
     "output_type": "stream",
     "text": [
      "\n",
      " 1 dimension \n",
      " [0.15776214 0.67411437 0.23770231 0.81027925 0.08064776 0.92346743\n",
      " 0.16214541 0.49718742 0.80657627 0.89384366]\n",
      "\n",
      " 2 dimension \n",
      " [[0.51963003 0.15357177]\n",
      " [0.60830278 0.92432988]\n",
      " [0.41560055 0.43988593]]\n"
     ]
    }
   ],
   "source": [
    "a_random = np.random.random((10,))\n",
    "print(\"\\n 1 dimension \\n\", a_random)\n",
    "a1_random = np.random.random((3,2))\n",
    "print(\"\\n 2 dimension \\n\", a1_random)"
   ]
  },
  {
   "cell_type": "markdown",
   "id": "7a3e5887",
   "metadata": {},
   "source": [
    "###### ranint gives random integer values"
   ]
  },
  {
   "cell_type": "code",
   "execution_count": 31,
   "id": "64c78780",
   "metadata": {},
   "outputs": [
    {
     "name": "stdout",
     "output_type": "stream",
     "text": [
      "[0 5 2 3 7 1 6 6 6 3]\n",
      "[[5 9 2 7]\n",
      " [0 9 6 7]\n",
      " [2 5 8 5]\n",
      " [6 7 0 5]]\n"
     ]
    }
   ],
   "source": [
    "b_random = np.random.randint(0, 10, size = 10)\n",
    "b_random\n",
    "e_random = np.random.randint(0, 10, (4,4))\n",
    "e_random\n",
    "print(b_random)\n",
    "print(e_random)"
   ]
  },
  {
   "cell_type": "code",
   "execution_count": 62,
   "id": "da8f0ab8",
   "metadata": {},
   "outputs": [
    {
     "data": {
      "text/plain": [
       "array([[33.86976545, 90.78329956],\n",
       "       [86.57042001, 92.99816441],\n",
       "       [19.27512153, 87.45754659]])"
      ]
     },
     "execution_count": 62,
     "metadata": {},
     "output_type": "execute_result"
    }
   ],
   "source": [
    "g_random = 100 * np.random.random((3,2))\n",
    "g_random"
   ]
  },
  {
   "cell_type": "markdown",
   "id": "510453c6",
   "metadata": {},
   "source": [
    "###### Indexing and slicing in arrays"
   ]
  },
  {
   "cell_type": "code",
   "execution_count": 66,
   "id": "c0bb26dd",
   "metadata": {},
   "outputs": [
    {
     "data": {
      "text/plain": [
       "92.99816440886758"
      ]
     },
     "execution_count": 66,
     "metadata": {},
     "output_type": "execute_result"
    }
   ],
   "source": [
    "g_random[1,1]"
   ]
  },
  {
   "cell_type": "code",
   "execution_count": 68,
   "id": "78381e77",
   "metadata": {},
   "outputs": [
    {
     "data": {
      "text/plain": [
       "90.78329955792054"
      ]
     },
     "execution_count": 68,
     "metadata": {},
     "output_type": "execute_result"
    }
   ],
   "source": [
    "g_random[0,1]"
   ]
  },
  {
   "cell_type": "code",
   "execution_count": 32,
   "id": "a11492f0",
   "metadata": {},
   "outputs": [
    {
     "name": "stdout",
     "output_type": "stream",
     "text": [
      "[[5 9 2 7]\n",
      " [0 9 6 7]\n",
      " [2 5 8 5]\n",
      " [6 7 0 5]]\n",
      "[6 7 0]\n"
     ]
    }
   ],
   "source": [
    "print(e_random)\n",
    "print(e_random[3, 0:3])"
   ]
  },
  {
   "cell_type": "code",
   "execution_count": 33,
   "id": "ee12bb00",
   "metadata": {},
   "outputs": [
    {
     "name": "stdout",
     "output_type": "stream",
     "text": [
      "[6 7 0]\n"
     ]
    }
   ],
   "source": [
    "print(e_random[3, :3])"
   ]
  },
  {
   "cell_type": "code",
   "execution_count": 34,
   "id": "e1bf7dc9",
   "metadata": {},
   "outputs": [
    {
     "name": "stdout",
     "output_type": "stream",
     "text": [
      "[6 7 0 5]\n"
     ]
    }
   ],
   "source": [
    "print(e_random[3, 0:])"
   ]
  },
  {
   "cell_type": "code",
   "execution_count": 82,
   "id": "3b0d1b85",
   "metadata": {},
   "outputs": [
    {
     "name": "stdout",
     "output_type": "stream",
     "text": [
      "[7 6 3 0]\n"
     ]
    }
   ],
   "source": [
    "print(e_random[3, :])"
   ]
  },
  {
   "cell_type": "code",
   "execution_count": 36,
   "id": "54aad7f6",
   "metadata": {},
   "outputs": [
    {
     "name": "stdout",
     "output_type": "stream",
     "text": [
      "[[5 9 2]\n",
      " [0 9 6]\n",
      " [2 5 8]\n",
      " [6 7 0]]\n"
     ]
    }
   ],
   "source": [
    "print(e_random[:, 0:3])"
   ]
  },
  {
   "cell_type": "code",
   "execution_count": 38,
   "id": "44010cb6",
   "metadata": {},
   "outputs": [
    {
     "name": "stdout",
     "output_type": "stream",
     "text": [
      "[7 5 5]\n"
     ]
    }
   ],
   "source": [
    "print(e_random[1:, 3])"
   ]
  },
  {
   "cell_type": "code",
   "execution_count": 40,
   "id": "819908c7",
   "metadata": {},
   "outputs": [
    {
     "data": {
      "text/plain": [
       "array([[0.42541772, 0.76903771, 0.80202895, 0.00814193, 0.13178068],\n",
       "       [0.36398066, 0.32712659, 0.33232634, 0.77166911, 0.28127357],\n",
       "       [0.4989175 , 0.3563999 , 0.96023659, 0.816588  , 0.70754803]])"
      ]
     },
     "execution_count": 40,
     "metadata": {},
     "output_type": "execute_result"
    }
   ],
   "source": [
    "ran_array = np.random.random((3,5))\n",
    "ran_array"
   ]
  },
  {
   "cell_type": "code",
   "execution_count": 91,
   "id": "c250c4be",
   "metadata": {},
   "outputs": [
    {
     "data": {
      "text/plain": [
       "array([[ True,  True, False, False, False],\n",
       "       [False, False, False,  True,  True],\n",
       "       [ True, False, False,  True,  True]])"
      ]
     },
     "execution_count": 91,
     "metadata": {},
     "output_type": "execute_result"
    }
   ],
   "source": [
    "ran_array > 0.5"
   ]
  },
  {
   "cell_type": "code",
   "execution_count": 92,
   "id": "2eb9f13e",
   "metadata": {},
   "outputs": [
    {
     "data": {
      "text/plain": [
       "array([0.62856599, 0.72983566, 0.78432807, 0.70774341, 0.63653105,\n",
       "       0.86800226, 0.62112439])"
      ]
     },
     "execution_count": 92,
     "metadata": {},
     "output_type": "execute_result"
    }
   ],
   "source": [
    "ran_array[ran_array>0.5]"
   ]
  },
  {
   "cell_type": "code",
   "execution_count": 41,
   "id": "a48a7a04",
   "metadata": {},
   "outputs": [
    {
     "data": {
      "text/plain": [
       "array([[2, 1, 2],\n",
       "       [0, 1, 5],\n",
       "       [2, 6, 1]])"
      ]
     },
     "execution_count": 41,
     "metadata": {},
     "output_type": "execute_result"
    }
   ],
   "source": [
    "s = np.random.randint(0, 10, (3,3))\n",
    "s"
   ]
  },
  {
   "cell_type": "code",
   "execution_count": 42,
   "id": "e35b0593",
   "metadata": {},
   "outputs": [
    {
     "data": {
      "text/plain": [
       "array([[19, 11, 11],\n",
       "       [14, 19, 16],\n",
       "       [17, 13, 13]])"
      ]
     },
     "execution_count": 42,
     "metadata": {},
     "output_type": "execute_result"
    }
   ],
   "source": [
    "p = np.random.randint(10, 20, (3,3))\n",
    "p"
   ]
  },
  {
   "cell_type": "code",
   "execution_count": 43,
   "id": "4d8613a3",
   "metadata": {},
   "outputs": [
    {
     "data": {
      "text/plain": [
       "array([[21, 12, 13],\n",
       "       [14, 20, 21],\n",
       "       [19, 19, 14]])"
      ]
     },
     "execution_count": 43,
     "metadata": {},
     "output_type": "execute_result"
    }
   ],
   "source": [
    "b = s+p\n",
    "b"
   ]
  },
  {
   "cell_type": "code",
   "execution_count": 101,
   "id": "5410409b",
   "metadata": {},
   "outputs": [
    {
     "data": {
      "text/plain": [
       "array([[ -9, -10, -12],\n",
       "       [ -8,  -9, -10],\n",
       "       [-10,  -8,  -7]])"
      ]
     },
     "execution_count": 101,
     "metadata": {},
     "output_type": "execute_result"
    }
   ],
   "source": [
    "b = s - p\n",
    "b"
   ]
  },
  {
   "cell_type": "code",
   "execution_count": 102,
   "id": "539b37ae",
   "metadata": {},
   "outputs": [
    {
     "data": {
      "text/plain": [
       "array([[ 90, 119, 133],\n",
       "       [ 33,  22,  75],\n",
       "       [171, 105,  44]])"
      ]
     },
     "execution_count": 102,
     "metadata": {},
     "output_type": "execute_result"
    }
   ],
   "source": [
    "b = s*p\n",
    "b"
   ]
  },
  {
   "cell_type": "code",
   "execution_count": 104,
   "id": "bfa2cf45",
   "metadata": {},
   "outputs": [
    {
     "data": {
      "text/plain": [
       "array([[0.4       , 0.41176471, 0.36842105],\n",
       "       [0.27272727, 0.18181818, 0.33333333],\n",
       "       [0.47368421, 0.46666667, 0.36363636]])"
      ]
     },
     "execution_count": 104,
     "metadata": {},
     "output_type": "execute_result"
    }
   ],
   "source": [
    "b = s/p\n",
    "b"
   ]
  },
  {
   "cell_type": "code",
   "execution_count": 44,
   "id": "77c6b7c9",
   "metadata": {},
   "outputs": [
    {
     "data": {
      "text/plain": [
       "array([[8, 6, 1, 9],\n",
       "       [5, 6, 8, 9],\n",
       "       [9, 0, 4, 2]])"
      ]
     },
     "execution_count": 44,
     "metadata": {},
     "output_type": "execute_result"
    }
   ],
   "source": [
    "s = np.random.randint(0, 10, (3,4))\n",
    "s"
   ]
  },
  {
   "cell_type": "code",
   "execution_count": 49,
   "id": "ae67addb",
   "metadata": {},
   "outputs": [
    {
     "name": "stdout",
     "output_type": "stream",
     "text": [
      "[[9 3 0]\n",
      " [4 1 3]\n",
      " [0 0 4]\n",
      " [2 9 0]]\n"
     ]
    }
   ],
   "source": [
    "s = np.random.randint(0, 10, (4,3))\n",
    "print(s)"
   ]
  },
  {
   "cell_type": "code",
   "execution_count": 47,
   "id": "bff2a7aa",
   "metadata": {},
   "outputs": [
    {
     "data": {
      "text/plain": [
       "48"
      ]
     },
     "execution_count": 47,
     "metadata": {},
     "output_type": "execute_result"
    }
   ],
   "source": [
    "np.sum(s)"
   ]
  },
  {
   "cell_type": "code",
   "execution_count": 50,
   "id": "548cfad6",
   "metadata": {},
   "outputs": [
    {
     "name": "stdout",
     "output_type": "stream",
     "text": [
      "[15 13  7]\n"
     ]
    }
   ],
   "source": [
    "print(np.sum(s, axis = 0))"
   ]
  },
  {
   "cell_type": "code",
   "execution_count": 51,
   "id": "8b2b9d10",
   "metadata": {},
   "outputs": [
    {
     "name": "stdout",
     "output_type": "stream",
     "text": [
      "[12  8  4 11]\n"
     ]
    }
   ],
   "source": [
    "print(np.sum(s, axis = 1))"
   ]
  },
  {
   "cell_type": "code",
   "execution_count": 115,
   "id": "ff934b4e",
   "metadata": {},
   "outputs": [
    {
     "name": "stdout",
     "output_type": "stream",
     "text": [
      "[2 0 2]\n",
      "[9 8 7]\n",
      "[2 2 0 7]\n",
      "[4 8 2 9]\n"
     ]
    }
   ],
   "source": [
    "print(np.min(s, axis = 0))\n",
    "print(np.max(s, axis = 0))\n",
    "print(np.min(s, axis = 1))\n",
    "print(np.max(s, axis = 1))"
   ]
  },
  {
   "cell_type": "code",
   "execution_count": 118,
   "id": "8289b3f6",
   "metadata": {},
   "outputs": [
    {
     "name": "stdout",
     "output_type": "stream",
     "text": [
      "[[3 2 4]\n",
      " [6 8 2]\n",
      " [2 0 2]\n",
      " [9 7 7]]\n",
      "[5.   4.25 3.75]\n",
      "[3.         5.33333333 1.33333333 7.66666667]\n",
      "[2.73861279 3.34477204 2.04633819]\n",
      "[0.81649658 2.49443826 0.94280904 0.94280904]\n"
     ]
    }
   ],
   "source": [
    "print(s)\n",
    "print(np.mean(s, axis = 0))\n",
    "print(np.mean(s, axis = 1))\n",
    "print(np.std(s, axis = 0))\n",
    "print(np.std(s, axis = 1))"
   ]
  },
  {
   "cell_type": "code",
   "execution_count": 56,
   "id": "b9698ca4",
   "metadata": {},
   "outputs": [
    {
     "data": {
      "text/plain": [
       "array([[1, 1, 2],\n",
       "       [2, 3, 4],\n",
       "       [3, 5, 7]])"
      ]
     },
     "execution_count": 56,
     "metadata": {},
     "output_type": "execute_result"
    }
   ],
   "source": [
    "n = np.array([[1,1,2], [2,3,4], [3,5,7]])\n",
    "n"
   ]
  },
  {
   "cell_type": "code",
   "execution_count": 57,
   "id": "53ddb079",
   "metadata": {},
   "outputs": [
    {
     "data": {
      "text/plain": [
       "array([1, 2, 3, 4, 5, 7])"
      ]
     },
     "execution_count": 57,
     "metadata": {},
     "output_type": "execute_result"
    }
   ],
   "source": [
    "np.unique(n)"
   ]
  },
  {
   "cell_type": "code",
   "execution_count": 58,
   "id": "44b459fb",
   "metadata": {},
   "outputs": [
    {
     "data": {
      "text/plain": [
       "array([1, 1, 2, 2, 3, 4, 3, 5, 7])"
      ]
     },
     "execution_count": 58,
     "metadata": {},
     "output_type": "execute_result"
    }
   ],
   "source": [
    "np.reshape(n, (9,))"
   ]
  },
  {
   "cell_type": "code",
   "execution_count": 61,
   "id": "3ccd887f",
   "metadata": {},
   "outputs": [
    {
     "data": {
      "text/plain": [
       "array([[1, 1, 2],\n",
       "       [2, 3, 4],\n",
       "       [3, 5, 7]])"
      ]
     },
     "execution_count": 61,
     "metadata": {},
     "output_type": "execute_result"
    }
   ],
   "source": [
    "np.reshape(n, (3,3))"
   ]
  },
  {
   "cell_type": "code",
   "execution_count": 62,
   "id": "5ca506ad",
   "metadata": {},
   "outputs": [
    {
     "data": {
      "text/plain": [
       "array([[1, 2, 3],\n",
       "       [1, 3, 5],\n",
       "       [2, 4, 7]])"
      ]
     },
     "execution_count": 62,
     "metadata": {},
     "output_type": "execute_result"
    }
   ],
   "source": [
    "np.transpose(n)"
   ]
  },
  {
   "cell_type": "markdown",
   "id": "e185305a",
   "metadata": {},
   "source": [
    "##### excercise"
   ]
  },
  {
   "cell_type": "code",
   "execution_count": 130,
   "id": "a957b4b0",
   "metadata": {},
   "outputs": [
    {
     "name": "stdout",
     "output_type": "stream",
     "text": [
      "[[ 0  1  2  3]\n",
      " [ 4  5  6  7]\n",
      " [ 8  9 10 11]]\n",
      "[ 8  9 10 11]\n",
      "<class 'numpy.ndarray'>\n",
      "[0 4 8]\n",
      "3\n",
      "[[False False False False]\n",
      " [False False  True  True]\n",
      " [ True  True  True  True]]\n",
      "[ 6  7  8  9 10 11]\n"
     ]
    }
   ],
   "source": [
    "import numpy as np\n",
    "a = np.array([[0,1,2,3], [4,5,6,7], [8,9,10,11]])\n",
    "print(a)\n",
    "\n",
    "lastrow=a[-1]\n",
    "print(lastrow)\n",
    "print(type(lastrow))\n",
    "\n",
    "firstcol= a[:,0]\n",
    "print(firstcol)\n",
    "print(len(firstcol))\n",
    "a_gt_5=a>5\n",
    "print(a_gt_5)\n",
    "\n",
    "\n",
    "elements_gt_5 = a[a_gt_5]\n",
    "\n",
    "print(elements_gt_5)"
   ]
  },
  {
   "cell_type": "code",
   "execution_count": 131,
   "id": "19441d8b",
   "metadata": {},
   "outputs": [
    {
     "name": "stdout",
     "output_type": "stream",
     "text": [
      "[10 11 12 13 14 15 16 17 18 19]\n",
      "[0.         0.11111111 0.22222222 0.33333333 0.44444444 0.55555556\n",
      " 0.66666667 0.77777778 0.88888889 1.        ]\n",
      "[[0 1]\n",
      " [2 3]\n",
      " [4 5]\n",
      " [6 7]\n",
      " [8 9]]\n"
     ]
    }
   ],
   "source": [
    "import numpy as np\n",
    "\n",
    "x = np.arange(10,20)\n",
    "y = np.linspace(0.,1.,10)\n",
    "z = np.arange(0,10).reshape((5,2))\n",
    "\n",
    "print(x)\n",
    "print(y)\n",
    "print(z)\n",
    "\n",
    "a = x+x\n",
    "b=z/100\n",
    "c=x*y\n",
    "\n",
    "w1=np.sum(z,axis=0)\n",
    "w2=np.sum(z,axis=1)\n",
    "zmean =np.mean(z)"
   ]
  },
  {
   "cell_type": "markdown",
   "id": "25a3c4d6",
   "metadata": {},
   "source": [
    "###### array tip sheet in downloads folder"
   ]
  },
  {
   "cell_type": "code",
   "execution_count": null,
   "id": "f45dc11e",
   "metadata": {},
   "outputs": [],
   "source": []
  }
 ],
 "metadata": {
  "kernelspec": {
   "display_name": "Python 3 (ipykernel)",
   "language": "python",
   "name": "python3"
  },
  "language_info": {
   "codemirror_mode": {
    "name": "ipython",
    "version": 3
   },
   "file_extension": ".py",
   "mimetype": "text/x-python",
   "name": "python",
   "nbconvert_exporter": "python",
   "pygments_lexer": "ipython3",
   "version": "3.11.5"
  }
 },
 "nbformat": 4,
 "nbformat_minor": 5
}
